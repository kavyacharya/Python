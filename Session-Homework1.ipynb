{
 "cells": [
  {
   "cell_type": "markdown",
   "metadata": {},
   "source": [
    "1. Take values of length and breadth of a rectangle from user and check if it is square or not. Return area."
   ]
  },
  {
   "cell_type": "code",
   "execution_count": 1,
   "metadata": {},
   "outputs": [
    {
     "name": "stdout",
     "output_type": "stream",
     "text": [
      "100\n"
     ]
    }
   ],
   "source": [
    "length=10;\n",
    "\n",
    "breadth=10\n",
    "\n",
    "area=length*breadth\n",
    "\n",
    "print(area);"
   ]
  },
  {
   "cell_type": "markdown",
   "metadata": {},
   "source": [
    "2. Write a Python program which accepts the radius of a circle from the user and compute the area."
   ]
  },
  {
   "cell_type": "code",
   "execution_count": 2,
   "metadata": {},
   "outputs": [
    {
     "name": "stdout",
     "output_type": "stream",
     "text": [
      "20\n"
     ]
    }
   ],
   "source": [
    "radius=10\n",
    "\n",
    "area=radius*2\n",
    "\n",
    "print(area)"
   ]
  },
  {
   "cell_type": "markdown",
   "metadata": {},
   "source": [
    "4. A company decided to deduct pf of 12% of salary if year of service is less than 5 year and 24% employee if his/her year of service is more than 5 years.\n",
    "\n",
    "Ask user for their salary and year of service and print the net in-hand salary after pf deduction"
   ]
  },
  {
   "cell_type": "code",
   "execution_count": 3,
   "metadata": {},
   "outputs": [
    {
     "name": "stdout",
     "output_type": "stream",
     "text": [
      "125000.0\n"
     ]
    }
   ],
   "source": [
    "year=7\n",
    "\n",
    "sal=30000\n",
    "\n",
    "if(year<5):\n",
    "\n",
    "    in_hand=sal*100/2\n",
    "\n",
    "else:\n",
    "\n",
    "    in_hand=sal*100/24\n",
    "\n",
    "print(in_hand)"
   ]
  },
  {
   "cell_type": "markdown",
   "metadata": {},
   "source": [
    "5)A school has following rules for grading system:\n",
    "\n",
    "    a. Below 40 - F\n",
    "\n",
    "    b. 40 to 50 - C\n",
    "\n",
    "    c. 50 to 60 - C+\n",
    "\n",
    "    d. 60 to 70 - B\n",
    "\n",
    "    e. 70 to 80 - B+\n",
    "\n",
    "    f. 80 to 90 - A\n",
    "\n",
    "    g. Above 90 - A+\n",
    "\n",
    "\n",
    "\n",
    "Ask user to enter marks for their 5 main subject and print the corresponding grade and overall grade for average of marks."
   ]
  },
  {
   "cell_type": "code",
   "execution_count": 5,
   "metadata": {},
   "outputs": [
    {
     "name": "stdout",
     "output_type": "stream",
     "text": [
      "C+\n"
     ]
    }
   ],
   "source": [
    "\n",
    "mark1=30\n",
    "\n",
    "mark2=40\n",
    "\n",
    "mark3=70\n",
    "\n",
    "mark4=50\n",
    "\n",
    "mark5=90\n",
    "\n",
    "Total_mark=(mark1+mark2+mark3+mark4+mark5)\n",
    "\n",
    "average=Total_mark/5\n",
    "\n",
    "\n",
    "\n",
    "if(average < 40):\n",
    "\n",
    "    print(\"F\")\n",
    "\n",
    "elif(40< average < 50):\n",
    "\n",
    "   print(\"C\")\n",
    "\n",
    "elif(50< average < 60):\n",
    "\n",
    "   print(\"C+\")\n",
    "\n",
    "elif(60< average < 70):\n",
    "\n",
    "   print(\"B\")\n",
    "\n",
    "elif(70< average < 80):\n",
    "\n",
    "   print(\"B+\") \n",
    "\n",
    "elif(80< average < 90):\n",
    "\n",
    "   print(\"A\")\n",
    "\n",
    "elif(average > 90):\n",
    "\n",
    "   print(\"A+\")\n",
    "\n",
    "else:\n",
    "\n",
    "    print(\"Enter the mark properly\")"
   ]
  },
  {
   "cell_type": "markdown",
   "metadata": {},
   "source": [
    "6. A student will not be allowed to sit in exam if his/her attendence is less than 75%.\n",
    "\n",
    "    Take following input from user\n",
    "\n",
    "    Number of classes held\n",
    "\n",
    "    Number of classes attended.\n",
    "\n",
    "\n",
    "\n",
    "  And print\n",
    "\n",
    "    percentage of class attended\n",
    "\n",
    "    Is student is allowed to sit in exam or not."
   ]
  },
  {
   "cell_type": "code",
   "execution_count": 8,
   "metadata": {},
   "outputs": [
    {
     "name": "stdout",
     "output_type": "stream",
     "text": [
      "75.0\n",
      "eligible\n"
     ]
    }
   ],
   "source": [
    "\n",
    "class_held=20\n",
    "\n",
    "class_attend=15\n",
    "\n",
    "\n",
    "\n",
    "perc_attend=(class_attend*100)/20\n",
    "\n",
    "print(perc_attend)\n",
    "\n",
    "\n",
    "\n",
    "if(perc_attend > 75):\n",
    "\n",
    "    print(\"eligible\")\n",
    "\n",
    "else:\n",
    "\n",
    "    print(\"No eligible\")"
   ]
  },
  {
   "cell_type": "code",
   "execution_count": null,
   "metadata": {},
   "outputs": [],
   "source": []
  }
 ],
 "metadata": {
  "kernelspec": {
   "display_name": "Python 3",
   "language": "python",
   "name": "python3"
  },
  "language_info": {
   "codemirror_mode": {
    "name": "ipython",
    "version": 3
   },
   "file_extension": ".py",
   "mimetype": "text/x-python",
   "name": "python",
   "nbconvert_exporter": "python",
   "pygments_lexer": "ipython3",
   "version": "3.7.6"
  }
 },
 "nbformat": 4,
 "nbformat_minor": 4
}
